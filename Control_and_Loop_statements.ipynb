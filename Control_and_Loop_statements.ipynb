{
  "nbformat": 4,
  "nbformat_minor": 0,
  "metadata": {
    "colab": {
      "name": "Control and Loop statements.ipynb",
      "provenance": [],
      "collapsed_sections": [],
      "authorship_tag": "ABX9TyN37amiN+7nDQ2jP/xeM0EP",
      "include_colab_link": true
    },
    "kernelspec": {
      "name": "python3",
      "display_name": "Python 3"
    },
    "language_info": {
      "name": "python"
    }
  },
  "cells": [
    {
      "cell_type": "markdown",
      "metadata": {
        "id": "view-in-github",
        "colab_type": "text"
      },
      "source": [
        "<a href=\"https://colab.research.google.com/github/CholoRiego/Numerical-Methods-58012/blob/main/Control_and_Loop_statements.ipynb\" target=\"_parent\"><img src=\"https://colab.research.google.com/assets/colab-badge.svg\" alt=\"Open In Colab\"/></a>"
      ]
    },
    {
      "cell_type": "markdown",
      "source": [
        "##If Statement"
      ],
      "metadata": {
        "id": "d1d87pbasLey"
      }
    },
    {
      "cell_type": "code",
      "execution_count": 1,
      "metadata": {
        "colab": {
          "base_uri": "https://localhost:8080/"
        },
        "id": "r9QB3QkjqsWm",
        "outputId": "461ef8c3-cdfb-401a-9549-d7cb199e1441"
      },
      "outputs": [
        {
          "output_type": "stream",
          "name": "stdout",
          "text": [
            "b is greater than a\n"
          ]
        }
      ],
      "source": [
        "a = 12\n",
        "b = 100\n",
        "\n",
        "if b>a:\n",
        "  print(\"b is greater than a\")"
      ]
    },
    {
      "cell_type": "markdown",
      "source": [
        "##Elif Statement"
      ],
      "metadata": {
        "id": "vWHhripKsO6f"
      }
    },
    {
      "cell_type": "code",
      "source": [
        "a = 101\n",
        "b = 100\n",
        "\n",
        "if b>a:\n",
        "  print(\"b is greater than a\")\n",
        "elif a==b:\n",
        "    print(\"a and b are equal\")"
      ],
      "metadata": {
        "id": "I_Hf1Sq8rE5Q"
      },
      "execution_count": 6,
      "outputs": []
    },
    {
      "cell_type": "markdown",
      "source": [
        "##Else Statement"
      ],
      "metadata": {
        "id": "MPrVx5JFrsL3"
      }
    },
    {
      "cell_type": "code",
      "source": [
        "if b>a:\n",
        "  print(\"b is greater than a\")\n",
        "elif a==b:\n",
        "    print(\"a and b are equal\")\n",
        "else:\n",
        "  print(\"a is greater than b\")"
      ],
      "metadata": {
        "colab": {
          "base_uri": "https://localhost:8080/"
        },
        "id": "lHjxGyXarhp5",
        "outputId": "c06827d0-c217-42c4-98c1-ee9c648a2b01"
      },
      "execution_count": 7,
      "outputs": [
        {
          "output_type": "stream",
          "name": "stdout",
          "text": [
            "a is greater than b\n"
          ]
        }
      ]
    },
    {
      "cell_type": "markdown",
      "source": [
        "##Short Hand If statement"
      ],
      "metadata": {
        "id": "qYCx4u7Or4T_"
      }
    },
    {
      "cell_type": "code",
      "source": [
        "if a>b: print(\"a is greater than b\")"
      ],
      "metadata": {
        "colab": {
          "base_uri": "https://localhost:8080/"
        },
        "id": "b12FSirVrvZR",
        "outputId": "aa214f11-ff4c-433f-ed79-18373c6dba58"
      },
      "execution_count": 8,
      "outputs": [
        {
          "output_type": "stream",
          "name": "stdout",
          "text": [
            "a is greater than b\n"
          ]
        }
      ]
    },
    {
      "cell_type": "markdown",
      "source": [
        "##Short Hand If... Else statement"
      ],
      "metadata": {
        "id": "U75Hfw_Ar9ZI"
      }
    },
    {
      "cell_type": "code",
      "source": [
        "print(\"b is greater than a\") if b>a else print(\"a is greater than b\")"
      ],
      "metadata": {
        "colab": {
          "base_uri": "https://localhost:8080/"
        },
        "id": "ZumcuT3dsBe4",
        "outputId": "c79c0950-7dcc-4fdc-98c7-b45b5ca10014"
      },
      "execution_count": 13,
      "outputs": [
        {
          "output_type": "stream",
          "name": "stdout",
          "text": [
            "a is greater than b\n"
          ]
        }
      ]
    },
    {
      "cell_type": "markdown",
      "source": [
        "##And - if both conditions are true"
      ],
      "metadata": {
        "id": "KqUQHkVhsfWQ"
      }
    },
    {
      "cell_type": "code",
      "source": [
        "a = 100\n",
        "b = 10\n",
        "c = 45\n",
        "\n",
        "if a>b and c>b:\n",
        "  print(\"Both conditions are true\")"
      ],
      "metadata": {
        "colab": {
          "base_uri": "https://localhost:8080/"
        },
        "id": "M10Z8AhusjXg",
        "outputId": "17de493f-13f8-45e4-902d-57386c4eee75"
      },
      "execution_count": 12,
      "outputs": [
        {
          "output_type": "stream",
          "name": "stdout",
          "text": [
            "Both conditions are true\n"
          ]
        }
      ]
    },
    {
      "cell_type": "markdown",
      "source": [
        "##Or - if one condition is true"
      ],
      "metadata": {
        "id": "fqMW1nL1s_GK"
      }
    },
    {
      "cell_type": "code",
      "source": [
        "if a>b or b>c:\n",
        "  print(\"One of the conditions is true\")"
      ],
      "metadata": {
        "colab": {
          "base_uri": "https://localhost:8080/"
        },
        "id": "AjPfYa6etDkh",
        "outputId": "f978298d-26ca-407a-c16d-820fdf42e41d"
      },
      "execution_count": 15,
      "outputs": [
        {
          "output_type": "stream",
          "name": "stdout",
          "text": [
            "One of the conditions is true\n"
          ]
        }
      ]
    },
    {
      "cell_type": "markdown",
      "source": [
        "##Nested If Statement"
      ],
      "metadata": {
        "id": "HyKC1PS0tGtv"
      }
    },
    {
      "cell_type": "code",
      "source": [
        "x = int(input())\n",
        "if x>10:\n",
        "  print(\"x is above 10\")\n",
        "  if x>20:\n",
        "    print(\"x is above 20\")\n",
        "    if x>30:\n",
        "      print(\"x is above 30\")\n",
        "      if x>40:\n",
        "        print(\"x is above 50\")\n",
        "        if x>50:\n",
        "          print(\"x is above 50\")\n",
        "        else:\n",
        "          print(\"x is below 50\")\n",
        "else:\n",
        "  print(\"x is below 10\")"
      ],
      "metadata": {
        "colab": {
          "base_uri": "https://localhost:8080/"
        },
        "id": "RhD66SpDtcaB",
        "outputId": "9d7dddc2-dfcb-4c55-fc34-fcc74bc2d07e"
      },
      "execution_count": 22,
      "outputs": [
        {
          "output_type": "stream",
          "name": "stdout",
          "text": [
            "51\n",
            "x is above 10\n",
            "x is above 20\n",
            "x is above 30\n",
            "x is above 50\n",
            "x is above 50\n"
          ]
        }
      ]
    },
    {
      "cell_type": "markdown",
      "source": [
        "##Application 1"
      ],
      "metadata": {
        "id": "x9Um7b0ouktI"
      }
    },
    {
      "cell_type": "code",
      "source": [
        "age = int(input())\n",
        "\n",
        "if age>=18:\n",
        "  print(\"You are qualified to vote!\")\n",
        "else:\n",
        "  print(\"You are not qualified to vote :(\")"
      ],
      "metadata": {
        "colab": {
          "base_uri": "https://localhost:8080/"
        },
        "id": "fI-BPtXHunEP",
        "outputId": "034260e6-e07d-4d9a-f481-5118c0d668ee"
      },
      "execution_count": 24,
      "outputs": [
        {
          "output_type": "stream",
          "name": "stdout",
          "text": [
            "18\n",
            "You are qualified to vote!\n"
          ]
        }
      ]
    },
    {
      "cell_type": "markdown",
      "source": [
        "##Application 2"
      ],
      "metadata": {
        "id": "Hj2BOsaWvJ0X"
      }
    },
    {
      "cell_type": "code",
      "source": [
        "x = int(input())\n",
        "\n",
        "if x>0:\n",
        "  print(\"x is a positive number\")\n",
        "elif x==0:\n",
        "  print(\"x is zero\")\n",
        "else:\n",
        "  print(\"x is a negative number\")"
      ],
      "metadata": {
        "colab": {
          "base_uri": "https://localhost:8080/"
        },
        "id": "Y1TFxSdsvLof",
        "outputId": "a6ba4eb8-9c01-4fb8-82ce-f262c3c05e81"
      },
      "execution_count": 27,
      "outputs": [
        {
          "output_type": "stream",
          "name": "stdout",
          "text": [
            "-7\n",
            "x is a negative number\n"
          ]
        }
      ]
    },
    {
      "cell_type": "markdown",
      "source": [
        "##Application 3 - Write a program to determine if the grades are:\n",
        "###grades >70 = passed\n",
        "###grades = 64 - 69 = Remedial\n",
        "###grades <64 = Failed"
      ],
      "metadata": {
        "id": "UR-UmGKXvrJg"
      }
    },
    {
      "cell_type": "code",
      "source": [
        "grade = float(input())\n",
        "\n",
        "if grade>=70:\n",
        "  print(\"Passed\")\n",
        "elif grade<70 and grade>=64:\n",
        "  print(\"Remedial\")\n",
        "else:\n",
        "  print(\"Failed\")"
      ],
      "metadata": {
        "colab": {
          "base_uri": "https://localhost:8080/"
        },
        "id": "8jC69711vtAn",
        "outputId": "bb8fbd4d-637b-4331-9cb5-318c24f5bcc2"
      },
      "execution_count": 31,
      "outputs": [
        {
          "output_type": "stream",
          "name": "stdout",
          "text": [
            "68\n",
            "Remedial\n"
          ]
        }
      ]
    },
    {
      "cell_type": "markdown",
      "source": [
        "##For Statement"
      ],
      "metadata": {
        "id": "uQdS9cpMyH6C"
      }
    },
    {
      "cell_type": "code",
      "source": [
        "week = [\"Sunday\",\"Monday\",\"Tuesday\",\"Wednesday\",\"Thursday\",\"Friday\",\"Saturday\"]\n",
        "\n",
        "for x in week:\n",
        "  print(x)"
      ],
      "metadata": {
        "colab": {
          "base_uri": "https://localhost:8080/"
        },
        "id": "fIx4ELAwxM03",
        "outputId": "2cbaaa64-4b7b-4374-bfb3-1458c0fc42b3"
      },
      "execution_count": 34,
      "outputs": [
        {
          "output_type": "stream",
          "name": "stdout",
          "text": [
            "Sunday\n",
            "Monday\n",
            "Tuesday\n",
            "Wednesday\n",
            "Thursday\n",
            "Friday\n",
            "Saturday\n"
          ]
        }
      ]
    },
    {
      "cell_type": "markdown",
      "source": [
        "##Break Statement"
      ],
      "metadata": {
        "id": "ulO2Un3VxkCu"
      }
    },
    {
      "cell_type": "code",
      "source": [
        "for x in week:\n",
        "  print(x)\n",
        "  if x == \"Friday\":\n",
        "    break\n"
      ],
      "metadata": {
        "colab": {
          "base_uri": "https://localhost:8080/"
        },
        "id": "ily4SDjXxz6n",
        "outputId": "fa0d420f-8776-408f-ec3b-3ce745a9537d"
      },
      "execution_count": 35,
      "outputs": [
        {
          "output_type": "stream",
          "name": "stdout",
          "text": [
            "Sunday\n",
            "Monday\n",
            "Tuesday\n",
            "Wednesday\n",
            "Thursday\n",
            "Friday\n"
          ]
        }
      ]
    },
    {
      "cell_type": "markdown",
      "source": [
        "##Looping through a string"
      ],
      "metadata": {
        "id": "dufiyWx-x6SG"
      }
    },
    {
      "cell_type": "code",
      "source": [
        "for x in \"Week\":\n",
        "  print(x)"
      ],
      "metadata": {
        "colab": {
          "base_uri": "https://localhost:8080/"
        },
        "id": "5kIW87mqyCNo",
        "outputId": "fe715f58-bf2f-4d12-d0a3-0eb0e48b95de"
      },
      "execution_count": 36,
      "outputs": [
        {
          "output_type": "stream",
          "name": "stdout",
          "text": [
            "W\n",
            "e\n",
            "e\n",
            "k\n"
          ]
        }
      ]
    },
    {
      "cell_type": "markdown",
      "source": [
        "##Range() Function"
      ],
      "metadata": {
        "id": "fp_DW22tyG4e"
      }
    },
    {
      "cell_type": "code",
      "source": [
        "for x in range(6):\n",
        "  print(x)\n",
        "\n",
        "\n"
      ],
      "metadata": {
        "colab": {
          "base_uri": "https://localhost:8080/"
        },
        "id": "ZHp7dCHUyPt-",
        "outputId": "91df3859-2218-417b-c402-1244722d15af"
      },
      "execution_count": 38,
      "outputs": [
        {
          "output_type": "stream",
          "name": "stdout",
          "text": [
            "0\n",
            "1\n",
            "2\n",
            "3\n",
            "4\n",
            "5\n"
          ]
        }
      ]
    },
    {
      "cell_type": "code",
      "source": [
        "for x in range(2,6):\n",
        "  print(x)"
      ],
      "metadata": {
        "colab": {
          "base_uri": "https://localhost:8080/"
        },
        "id": "W7aDjdAkyjX-",
        "outputId": "690caaa1-93c3-4d39-cb8f-96a1585872f1"
      },
      "execution_count": 39,
      "outputs": [
        {
          "output_type": "stream",
          "name": "stdout",
          "text": [
            "2\n",
            "3\n",
            "4\n",
            "5\n"
          ]
        }
      ]
    },
    {
      "cell_type": "markdown",
      "source": [
        "##While Loop"
      ],
      "metadata": {
        "id": "dDEPhV8MylP_"
      }
    },
    {
      "cell_type": "code",
      "source": [
        "i = 1\n",
        "\n",
        "while i<6:\n",
        "  print(i)\n",
        "  i+=1 # +=is an assignment operator"
      ],
      "metadata": {
        "colab": {
          "base_uri": "https://localhost:8080/"
        },
        "id": "8zqx75S7yqB-",
        "outputId": "cf8e5d3b-7c64-4e96-c41f-9f1aba071797"
      },
      "execution_count": 40,
      "outputs": [
        {
          "output_type": "stream",
          "name": "stdout",
          "text": [
            "1\n",
            "2\n",
            "3\n",
            "4\n",
            "5\n"
          ]
        }
      ]
    },
    {
      "cell_type": "markdown",
      "source": [
        "##Break statement"
      ],
      "metadata": {
        "id": "Hd73M6FEzJeH"
      }
    },
    {
      "cell_type": "code",
      "source": [
        "i = 1\n",
        "\n",
        "while i<6:\n",
        "  print(i)\n",
        "  if i ==3:\n",
        "    break\n",
        "  i+=1"
      ],
      "metadata": {
        "colab": {
          "base_uri": "https://localhost:8080/"
        },
        "id": "FBYr6FZ1zSbJ",
        "outputId": "8679e5cd-2660-4b3b-d528-dca1ac51e010"
      },
      "execution_count": 41,
      "outputs": [
        {
          "output_type": "stream",
          "name": "stdout",
          "text": [
            "1\n",
            "2\n",
            "3\n"
          ]
        }
      ]
    },
    {
      "cell_type": "markdown",
      "source": [
        "##Continue Statement"
      ],
      "metadata": {
        "id": "73vZbVRuzewW"
      }
    },
    {
      "cell_type": "code",
      "source": [
        "i = 1\n",
        "\n",
        "while i<6:\n",
        "  i+=1\n",
        "  if i ==3:\n",
        "    continue\n",
        "  print(i)\n",
        "  "
      ],
      "metadata": {
        "colab": {
          "base_uri": "https://localhost:8080/"
        },
        "id": "OxQlEB32zg_m",
        "outputId": "68731a4f-e85b-47be-d69b-b2883584f895"
      },
      "execution_count": 44,
      "outputs": [
        {
          "output_type": "stream",
          "name": "stdout",
          "text": [
            "2\n",
            "4\n",
            "5\n",
            "6\n"
          ]
        }
      ]
    }
  ]
}